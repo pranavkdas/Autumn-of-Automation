{
 "cells": [
  {
   "cell_type": "code",
   "execution_count": 4,
   "metadata": {},
   "outputs": [],
   "source": [
    "import numpy as np"
   ]
  },
  {
   "cell_type": "markdown",
   "metadata": {},
   "source": [
    "# Taking x and y to be of sizes 20x20 and 20x1 respectively filled with random values"
   ]
  },
  {
   "cell_type": "code",
   "execution_count": 5,
   "metadata": {},
   "outputs": [],
   "source": [
    "x = np.random.normal(size=(20,20))\n",
    "y = np.random.normal(size=(20,1))"
   ]
  },
  {
   "cell_type": "code",
   "execution_count": 6,
   "metadata": {},
   "outputs": [],
   "source": [
    "x_transpose_dot_x_thewholeINVERSE = np.linalg.inv(np.dot(x.T,x))\n",
    "x_transpose_dot_y = np.dot(x.T,y)"
   ]
  },
  {
   "cell_type": "code",
   "execution_count": 9,
   "metadata": {},
   "outputs": [
    {
     "name": "stdout",
     "output_type": "stream",
     "text": [
      "(20, 1)\n"
     ]
    }
   ],
   "source": [
    "theta = np.dot(x_transpose_dot_x_thewholeINVERSE, x_transpose_dot_y)\n",
    "print(theta.shape)"
   ]
  },
  {
   "cell_type": "code",
   "execution_count": 10,
   "metadata": {},
   "outputs": [
    {
     "name": "stdout",
     "output_type": "stream",
     "text": [
      "[[-0.34701395]\n",
      " [-0.7041427 ]\n",
      " [-0.13840499]\n",
      " [ 0.59708765]\n",
      " [ 1.04133517]\n",
      " [-0.99852699]\n",
      " [-0.07110183]\n",
      " [ 0.06396665]\n",
      " [-0.0530224 ]\n",
      " [-0.8184019 ]\n",
      " [-0.11976798]\n",
      " [ 1.1125794 ]\n",
      " [-0.12815709]\n",
      " [-0.97135472]\n",
      " [ 0.17615242]\n",
      " [-0.16429056]\n",
      " [ 0.15278816]\n",
      " [ 0.08772171]\n",
      " [-1.15839822]\n",
      " [ 1.52496238]]\n"
     ]
    }
   ],
   "source": [
    "print(theta)"
   ]
  },
  {
   "cell_type": "code",
   "execution_count": null,
   "metadata": {},
   "outputs": [],
   "source": []
  }
 ],
 "metadata": {
  "kernelspec": {
   "display_name": "Python 3",
   "language": "python",
   "name": "python3"
  },
  "language_info": {
   "codemirror_mode": {
    "name": "ipython",
    "version": 3
   },
   "file_extension": ".py",
   "mimetype": "text/x-python",
   "name": "python",
   "nbconvert_exporter": "python",
   "pygments_lexer": "ipython3",
   "version": "3.6.9"
  }
 },
 "nbformat": 4,
 "nbformat_minor": 4
}
