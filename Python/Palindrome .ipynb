{
 "cells": [
  {
   "cell_type": "code",
   "execution_count": 6,
   "metadata": {},
   "outputs": [
    {
     "name": "stdout",
     "output_type": "stream",
     "text": [
      "1001\n",
      "The next number which is a palindrome: 1111\n"
     ]
    }
   ],
   "source": [
    "num = input()\n",
    "n = str(int(num)+1)\n",
    "while(True):\n",
    "    count = 0\n",
    "    p = len(n)\n",
    "    for i in range(0,int(p/2)):\n",
    "        if(n[i]==n[p-i-1]):\n",
    "            count = count+1\n",
    "        else:\n",
    "            break\n",
    "    if(count==(int(p/2))):\n",
    "        print(\"The next number which is a palindrome:\",n)\n",
    "        break\n",
    "    else:\n",
    "        n = str(int(n)+1)"
   ]
  }
 ],
 "metadata": {
  "kernelspec": {
   "display_name": "Python 3",
   "language": "python",
   "name": "python3"
  },
  "language_info": {
   "codemirror_mode": {
    "name": "ipython",
    "version": 3
   },
   "file_extension": ".py",
   "mimetype": "text/x-python",
   "name": "python",
   "nbconvert_exporter": "python",
   "pygments_lexer": "ipython3",
   "version": "3.6.9"
  }
 },
 "nbformat": 4,
 "nbformat_minor": 4
}
