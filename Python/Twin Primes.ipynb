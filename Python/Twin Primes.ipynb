{
 "cells": [
  {
   "cell_type": "markdown",
   "metadata": {},
   "source": [
    "# Input\n",
    "**d is number of digits**"
   ]
  },
  {
   "cell_type": "code",
   "execution_count": 102,
   "metadata": {},
   "outputs": [
    {
     "name": "stdout",
     "output_type": "stream",
     "text": [
      "3\n"
     ]
    }
   ],
   "source": [
    "d = int(input())"
   ]
  },
  {
   "cell_type": "code",
   "execution_count": 103,
   "metadata": {},
   "outputs": [],
   "source": [
    "prime_number = [True for i in range(10**d)]\n",
    "i = 2"
   ]
  },
  {
   "cell_type": "code",
   "execution_count": 104,
   "metadata": {},
   "outputs": [],
   "source": [
    "while ((i*i)<=((10**d))): \n",
    "    if (prime_number[i] == True):\n",
    "        num = 2*i\n",
    "        add = i\n",
    "        while(num<(10**d)):\n",
    "            prime_number[num] = False\n",
    "            num = num+add\n",
    "    i = i+1"
   ]
  },
  {
   "cell_type": "code",
   "execution_count": 105,
   "metadata": {},
   "outputs": [],
   "source": [
    "twin_primes_having_d_digits = []\n",
    "for num in range(2, 10**d-2): \n",
    "    x = str(num)\n",
    "    x = len(x)\n",
    "    if ((x == d) and ((num+2)<(10**d-2))):\n",
    "        if prime_number[num] and prime_number[num+2]: \n",
    "            twin_primes_having_d_digits.append([num,num+2])"
   ]
  },
  {
   "cell_type": "markdown",
   "metadata": {},
   "source": [
    "# Output"
   ]
  },
  {
   "cell_type": "code",
   "execution_count": 106,
   "metadata": {},
   "outputs": [
    {
     "data": {
      "text/plain": [
       "[[101, 103],\n",
       " [107, 109],\n",
       " [137, 139],\n",
       " [149, 151],\n",
       " [179, 181],\n",
       " [191, 193],\n",
       " [197, 199],\n",
       " [227, 229],\n",
       " [239, 241],\n",
       " [269, 271],\n",
       " [281, 283],\n",
       " [311, 313],\n",
       " [347, 349],\n",
       " [419, 421],\n",
       " [431, 433],\n",
       " [461, 463],\n",
       " [521, 523],\n",
       " [569, 571],\n",
       " [599, 601],\n",
       " [617, 619],\n",
       " [641, 643],\n",
       " [659, 661],\n",
       " [809, 811],\n",
       " [821, 823],\n",
       " [827, 829],\n",
       " [857, 859],\n",
       " [881, 883]]"
      ]
     },
     "execution_count": 106,
     "metadata": {},
     "output_type": "execute_result"
    }
   ],
   "source": [
    "twin_primes_having_d_digits"
   ]
  },
  {
   "cell_type": "markdown",
   "metadata": {},
   "source": [
    "# Writing to text file"
   ]
  },
  {
   "cell_type": "code",
   "execution_count": 117,
   "metadata": {},
   "outputs": [],
   "source": [
    "with open('/home/pranavkdas/myFirstFile.txt','w') as f:\n",
    "    for i in twin_primes_having_d_digits:\n",
    "        p = str(i[0])+\" , \"+ str(i[1])\n",
    "        f.write(\"%s\\n\"%p)"
   ]
  }
 ],
 "metadata": {
  "kernelspec": {
   "display_name": "Python 3",
   "language": "python",
   "name": "python3"
  },
  "language_info": {
   "codemirror_mode": {
    "name": "ipython",
    "version": 3
   },
   "file_extension": ".py",
   "mimetype": "text/x-python",
   "name": "python",
   "nbconvert_exporter": "python",
   "pygments_lexer": "ipython3",
   "version": "3.6.9"
  }
 },
 "nbformat": 4,
 "nbformat_minor": 4
}
